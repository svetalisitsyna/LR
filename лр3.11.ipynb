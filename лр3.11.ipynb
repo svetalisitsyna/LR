{
  "nbformat": 4,
  "nbformat_minor": 0,
  "metadata": {
    "colab": {
      "provenance": []
    },
    "kernelspec": {
      "name": "python3",
      "display_name": "Python 3"
    },
    "language_info": {
      "name": "python"
    }
  },
  "cells": [
    {
      "cell_type": "code",
      "source": [
        "from tensorflow.keras.datasets import fashion_mnist\n",
        "from tensorflow.keras.models import Sequential\n",
        "from tensorflow.keras.layers import Dense\n",
        "from tensorflow.keras.utils import to_categorical\n",
        "import numpy as np\n",
        "\n",
        "(x_train, y_train), (x_test, y_test) = fashion_mnist.load_data()\n",
        "\n",
        "x_train = x_train.reshape(x_train.shape[0], -1) / 255.0\n",
        "x_test = x_test.reshape(x_test.shape[0], -1) / 255.0\n",
        "y_train = to_categorical(y_train)\n",
        "y_test = to_categorical(y_test)\n",
        "\n",
        "# 1\n",
        "model = Sequential()\n",
        "model.add(Dense(10, input_dim=784, activation='relu'))\n",
        "model.add(Dense(10, activation='softmax'))\n",
        "model.compile(loss='categorical_crossentropy', optimizer='adam',\n",
        "metrics=['accuracy'])\n",
        "\n",
        "model.fit(x_train, y_train, epochs=10, validation_split=0.1)\n",
        "\n",
        "_, test_acc = model.evaluate(x_test, y_test)\n",
        "print(f\"Точность - {test_acc*100}%\")"
      ],
      "metadata": {
        "colab": {
          "base_uri": "https://localhost:8080/"
        },
        "id": "V26NtW-WGPN-",
        "outputId": "68acfdb8-3231-4df9-9fc3-03c3998a5c52"
      },
      "execution_count": null,
      "outputs": [
        {
          "output_type": "stream",
          "name": "stdout",
          "text": [
            "Epoch 1/10\n",
            "\u001b[1m1688/1688\u001b[0m \u001b[32m━━━━━━━━━━━━━━━━━━━━\u001b[0m\u001b[37m\u001b[0m \u001b[1m5s\u001b[0m 2ms/step - accuracy: 0.6533 - loss: 1.0049 - val_accuracy: 0.8212 - val_loss: 0.5022\n",
            "Epoch 2/10\n",
            "\u001b[1m1688/1688\u001b[0m \u001b[32m━━━━━━━━━━━━━━━━━━━━\u001b[0m\u001b[37m\u001b[0m \u001b[1m4s\u001b[0m 2ms/step - accuracy: 0.8333 - loss: 0.4839 - val_accuracy: 0.8425 - val_loss: 0.4476\n",
            "Epoch 3/10\n",
            "\u001b[1m1688/1688\u001b[0m \u001b[32m━━━━━━━━━━━━━━━━━━━━\u001b[0m\u001b[37m\u001b[0m \u001b[1m5s\u001b[0m 2ms/step - accuracy: 0.8474 - loss: 0.4417 - val_accuracy: 0.8470 - val_loss: 0.4347\n",
            "Epoch 4/10\n",
            "\u001b[1m1688/1688\u001b[0m \u001b[32m━━━━━━━━━━━━━━━━━━━━\u001b[0m\u001b[37m\u001b[0m \u001b[1m5s\u001b[0m 3ms/step - accuracy: 0.8550 - loss: 0.4162 - val_accuracy: 0.8452 - val_loss: 0.4455\n",
            "Epoch 5/10\n",
            "\u001b[1m1688/1688\u001b[0m \u001b[32m━━━━━━━━━━━━━━━━━━━━\u001b[0m\u001b[37m\u001b[0m \u001b[1m6s\u001b[0m 3ms/step - accuracy: 0.8576 - loss: 0.4126 - val_accuracy: 0.8495 - val_loss: 0.4258\n",
            "Epoch 6/10\n",
            "\u001b[1m1688/1688\u001b[0m \u001b[32m━━━━━━━━━━━━━━━━━━━━\u001b[0m\u001b[37m\u001b[0m \u001b[1m10s\u001b[0m 3ms/step - accuracy: 0.8601 - loss: 0.4008 - val_accuracy: 0.8465 - val_loss: 0.4244\n",
            "Epoch 7/10\n",
            "\u001b[1m1688/1688\u001b[0m \u001b[32m━━━━━━━━━━━━━━━━━━━━\u001b[0m\u001b[37m\u001b[0m \u001b[1m5s\u001b[0m 3ms/step - accuracy: 0.8619 - loss: 0.3933 - val_accuracy: 0.8508 - val_loss: 0.4123\n",
            "Epoch 8/10\n",
            "\u001b[1m1688/1688\u001b[0m \u001b[32m━━━━━━━━━━━━━━━━━━━━\u001b[0m\u001b[37m\u001b[0m \u001b[1m5s\u001b[0m 3ms/step - accuracy: 0.8592 - loss: 0.3960 - val_accuracy: 0.8525 - val_loss: 0.4063\n",
            "Epoch 9/10\n",
            "\u001b[1m1688/1688\u001b[0m \u001b[32m━━━━━━━━━━━━━━━━━━━━\u001b[0m\u001b[37m\u001b[0m \u001b[1m6s\u001b[0m 3ms/step - accuracy: 0.8649 - loss: 0.3846 - val_accuracy: 0.8545 - val_loss: 0.4174\n",
            "Epoch 10/10\n",
            "\u001b[1m1688/1688\u001b[0m \u001b[32m━━━━━━━━━━━━━━━━━━━━\u001b[0m\u001b[37m\u001b[0m \u001b[1m5s\u001b[0m 3ms/step - accuracy: 0.8665 - loss: 0.3829 - val_accuracy: 0.8503 - val_loss: 0.4331\n",
            "\u001b[1m313/313\u001b[0m \u001b[32m━━━━━━━━━━━━━━━━━━━━\u001b[0m\u001b[37m\u001b[0m \u001b[1m1s\u001b[0m 2ms/step - accuracy: 0.8409 - loss: 0.4495\n",
            "Точность - 83.92000198364258%\n"
          ]
        }
      ]
    },
    {
      "cell_type": "code",
      "source": [
        "model2 = Sequential()\n",
        "model2.add(Dense( 50, input_dim=784, activation='relu'))\n",
        "model2.add(Dense(10, activation='softmax'))\n",
        "model2.compile(loss='categorical_crossentropy', optimizer='adam',\n",
        "metrics=['accuracy'])\n",
        "model2.fit(x_train, y_train, epochs=10, validation_split=0.1)\n",
        "\n",
        "_, test_acc2 = model2.evaluate(x_test, y_test)\n",
        "print(f\"Точность - {test_acc2*100}%\")"
      ],
      "metadata": {
        "colab": {
          "base_uri": "https://localhost:8080/"
        },
        "id": "y8ZWQEycGRGy",
        "outputId": "7802d589-ef46-4e08-f1c0-9afb2ad6e126"
      },
      "execution_count": null,
      "outputs": [
        {
          "output_type": "stream",
          "name": "stdout",
          "text": [
            "Epoch 1/10\n",
            "\u001b[1m1688/1688\u001b[0m \u001b[32m━━━━━━━━━━━━━━━━━━━━\u001b[0m\u001b[37m\u001b[0m \u001b[1m6s\u001b[0m 3ms/step - accuracy: 0.7596 - loss: 0.7077 - val_accuracy: 0.8418 - val_loss: 0.4398\n",
            "Epoch 2/10\n",
            "\u001b[1m1688/1688\u001b[0m \u001b[32m━━━━━━━━━━━━━━━━━━━━\u001b[0m\u001b[37m\u001b[0m \u001b[1m6s\u001b[0m 4ms/step - accuracy: 0.8547 - loss: 0.4123 - val_accuracy: 0.8585 - val_loss: 0.3930\n",
            "Epoch 3/10\n",
            "\u001b[1m1688/1688\u001b[0m \u001b[32m━━━━━━━━━━━━━━━━━━━━\u001b[0m\u001b[37m\u001b[0m \u001b[1m5s\u001b[0m 3ms/step - accuracy: 0.8691 - loss: 0.3655 - val_accuracy: 0.8633 - val_loss: 0.3879\n",
            "Epoch 4/10\n",
            "\u001b[1m1688/1688\u001b[0m \u001b[32m━━━━━━━━━━━━━━━━━━━━\u001b[0m\u001b[37m\u001b[0m \u001b[1m6s\u001b[0m 4ms/step - accuracy: 0.8759 - loss: 0.3428 - val_accuracy: 0.8673 - val_loss: 0.3614\n",
            "Epoch 5/10\n",
            "\u001b[1m1688/1688\u001b[0m \u001b[32m━━━━━━━━━━━━━━━━━━━━\u001b[0m\u001b[37m\u001b[0m \u001b[1m10s\u001b[0m 3ms/step - accuracy: 0.8804 - loss: 0.3295 - val_accuracy: 0.8720 - val_loss: 0.3607\n",
            "Epoch 6/10\n",
            "\u001b[1m1688/1688\u001b[0m \u001b[32m━━━━━━━━━━━━━━━━━━━━\u001b[0m\u001b[37m\u001b[0m \u001b[1m9s\u001b[0m 3ms/step - accuracy: 0.8871 - loss: 0.3092 - val_accuracy: 0.8780 - val_loss: 0.3425\n",
            "Epoch 7/10\n",
            "\u001b[1m1688/1688\u001b[0m \u001b[32m━━━━━━━━━━━━━━━━━━━━\u001b[0m\u001b[37m\u001b[0m \u001b[1m6s\u001b[0m 4ms/step - accuracy: 0.8892 - loss: 0.2964 - val_accuracy: 0.8777 - val_loss: 0.3399\n",
            "Epoch 8/10\n",
            "\u001b[1m1688/1688\u001b[0m \u001b[32m━━━━━━━━━━━━━━━━━━━━\u001b[0m\u001b[37m\u001b[0m \u001b[1m5s\u001b[0m 3ms/step - accuracy: 0.8943 - loss: 0.2920 - val_accuracy: 0.8768 - val_loss: 0.3552\n",
            "Epoch 9/10\n",
            "\u001b[1m1688/1688\u001b[0m \u001b[32m━━━━━━━━━━━━━━━━━━━━\u001b[0m\u001b[37m\u001b[0m \u001b[1m6s\u001b[0m 4ms/step - accuracy: 0.8967 - loss: 0.2818 - val_accuracy: 0.8743 - val_loss: 0.3543\n",
            "Epoch 10/10\n",
            "\u001b[1m1688/1688\u001b[0m \u001b[32m━━━━━━━━━━━━━━━━━━━━\u001b[0m\u001b[37m\u001b[0m \u001b[1m5s\u001b[0m 3ms/step - accuracy: 0.8989 - loss: 0.2717 - val_accuracy: 0.8772 - val_loss: 0.3409\n",
            "\u001b[1m313/313\u001b[0m \u001b[32m━━━━━━━━━━━━━━━━━━━━\u001b[0m\u001b[37m\u001b[0m \u001b[1m1s\u001b[0m 2ms/step - accuracy: 0.8730 - loss: 0.3571\n",
            "Точность - 87.34999895095825%\n"
          ]
        }
      ]
    },
    {
      "cell_type": "code",
      "source": [
        "model3 = Sequential()\n",
        "model3.add(Dense(50, input_dim=784, activation='relu'))\n",
        "model3.add(Dense(50, activation='relu'))\n",
        "model3.add(Dense(10, activation='softmax'))\n",
        "model3.compile(loss='categorical_crossentropy', optimizer='adam',\n",
        "metrics=['accuracy'])\n",
        "model3.fit(x_train, y_train, epochs=10, validation_split=0.1)\n",
        "\n",
        "_, test_acc3 = model3.evaluate(x_test, y_test)\n",
        "print(f\"Точность - {test_acc3*100}%\")"
      ],
      "metadata": {
        "colab": {
          "base_uri": "https://localhost:8080/"
        },
        "id": "b6agEg_vGZIp",
        "outputId": "9a53a49d-e617-4a79-8f54-c9825a3d9251"
      },
      "execution_count": null,
      "outputs": [
        {
          "output_type": "stream",
          "name": "stdout",
          "text": [
            "Epoch 1/10\n",
            "\u001b[1m1688/1688\u001b[0m \u001b[32m━━━━━━━━━━━━━━━━━━━━\u001b[0m\u001b[37m\u001b[0m \u001b[1m7s\u001b[0m 4ms/step - accuracy: 0.7505 - loss: 0.7051 - val_accuracy: 0.8483 - val_loss: 0.4193\n",
            "Epoch 2/10\n",
            "\u001b[1m1688/1688\u001b[0m \u001b[32m━━━━━━━━━━━━━━━━━━━━\u001b[0m\u001b[37m\u001b[0m \u001b[1m9s\u001b[0m 3ms/step - accuracy: 0.8565 - loss: 0.4010 - val_accuracy: 0.8550 - val_loss: 0.3964\n",
            "Epoch 3/10\n",
            "\u001b[1m1688/1688\u001b[0m \u001b[32m━━━━━━━━━━━━━━━━━━━━\u001b[0m\u001b[37m\u001b[0m \u001b[1m11s\u001b[0m 3ms/step - accuracy: 0.8672 - loss: 0.3651 - val_accuracy: 0.8647 - val_loss: 0.3764\n",
            "Epoch 4/10\n",
            "\u001b[1m1688/1688\u001b[0m \u001b[32m━━━━━━━━━━━━━━━━━━━━\u001b[0m\u001b[37m\u001b[0m \u001b[1m10s\u001b[0m 3ms/step - accuracy: 0.8776 - loss: 0.3368 - val_accuracy: 0.8712 - val_loss: 0.3716\n",
            "Epoch 5/10\n",
            "\u001b[1m1688/1688\u001b[0m \u001b[32m━━━━━━━━━━━━━━━━━━━━\u001b[0m\u001b[37m\u001b[0m \u001b[1m10s\u001b[0m 3ms/step - accuracy: 0.8876 - loss: 0.3084 - val_accuracy: 0.8783 - val_loss: 0.3354\n",
            "Epoch 6/10\n",
            "\u001b[1m1688/1688\u001b[0m \u001b[32m━━━━━━━━━━━━━━━━━━━━\u001b[0m\u001b[37m\u001b[0m \u001b[1m11s\u001b[0m 3ms/step - accuracy: 0.8910 - loss: 0.3013 - val_accuracy: 0.8647 - val_loss: 0.3924\n",
            "Epoch 7/10\n",
            "\u001b[1m1688/1688\u001b[0m \u001b[32m━━━━━━━━━━━━━━━━━━━━\u001b[0m\u001b[37m\u001b[0m \u001b[1m5s\u001b[0m 3ms/step - accuracy: 0.8926 - loss: 0.2910 - val_accuracy: 0.8772 - val_loss: 0.3598\n",
            "Epoch 8/10\n",
            "\u001b[1m1688/1688\u001b[0m \u001b[32m━━━━━━━━━━━━━━━━━━━━\u001b[0m\u001b[37m\u001b[0m \u001b[1m7s\u001b[0m 4ms/step - accuracy: 0.8960 - loss: 0.2776 - val_accuracy: 0.8810 - val_loss: 0.3481\n",
            "Epoch 9/10\n",
            "\u001b[1m1688/1688\u001b[0m \u001b[32m━━━━━━━━━━━━━━━━━━━━\u001b[0m\u001b[37m\u001b[0m \u001b[1m5s\u001b[0m 3ms/step - accuracy: 0.9005 - loss: 0.2681 - val_accuracy: 0.8788 - val_loss: 0.3550\n",
            "Epoch 10/10\n",
            "\u001b[1m1688/1688\u001b[0m \u001b[32m━━━━━━━━━━━━━━━━━━━━\u001b[0m\u001b[37m\u001b[0m \u001b[1m10s\u001b[0m 3ms/step - accuracy: 0.9038 - loss: 0.2585 - val_accuracy: 0.8798 - val_loss: 0.3586\n",
            "\u001b[1m313/313\u001b[0m \u001b[32m━━━━━━━━━━━━━━━━━━━━\u001b[0m\u001b[37m\u001b[0m \u001b[1m1s\u001b[0m 2ms/step - accuracy: 0.8713 - loss: 0.3716\n",
            "Точность - 86.91999912261963%\n"
          ]
        }
      ]
    },
    {
      "cell_type": "code",
      "source": [
        "from tensorflow.keras.layers import Conv2D, MaxPooling2D, Flatten\n",
        "import numpy as np\n",
        "(x_train, y_train), (x_test, y_test) = fashion_mnist.load_data()\n",
        "x_train = x_train[:,:,:,np.newaxis] / 255.0\n",
        "x_test = x_test[:,:,:,np.newaxis] / 255.0\n",
        "y_train = to_categorical(y_train)\n",
        "y_test = to_categorical(y_test)\n",
        "\n",
        "model4 = Sequential()\n",
        "model4.add(Conv2D(filters=64, kernel_size=2, padding='same',\n",
        "activation='relu', input_shape=(28,28, 1)))\n",
        "model4.add(MaxPooling2D(pool_size=2))\n",
        "model4.add(Flatten())\n",
        "model4.add(Dense(10, activation='softmax'))\n",
        "model4.compile(loss='categorical_crossentropy', optimizer='adam',\n",
        "metrics=['accuracy'])\n",
        "model4.fit(x_train, y_train, epochs=10, validation_split=0.1)\n",
        "\n",
        "_, test_acc4 = model4.evaluate(x_test, y_test)\n",
        "print(f\"Точность - {test_acc4*100}%\")\n"
      ],
      "metadata": {
        "colab": {
          "base_uri": "https://localhost:8080/"
        },
        "id": "g2Kk27YbGbWi",
        "outputId": "c543a90c-089d-4371-e92c-42708e910f05"
      },
      "execution_count": null,
      "outputs": [
        {
          "output_type": "stream",
          "name": "stderr",
          "text": [
            "/usr/local/lib/python3.11/dist-packages/keras/src/layers/convolutional/base_conv.py:107: UserWarning: Do not pass an `input_shape`/`input_dim` argument to a layer. When using Sequential models, prefer using an `Input(shape)` object as the first layer in the model instead.\n",
            "  super().__init__(activity_regularizer=activity_regularizer, **kwargs)\n"
          ]
        },
        {
          "output_type": "stream",
          "name": "stdout",
          "text": [
            "Epoch 1/10\n",
            "\u001b[1m1688/1688\u001b[0m \u001b[32m━━━━━━━━━━━━━━━━━━━━\u001b[0m\u001b[37m\u001b[0m \u001b[1m45s\u001b[0m 26ms/step - accuracy: 0.7987 - loss: 0.5754 - val_accuracy: 0.8757 - val_loss: 0.3383\n",
            "Epoch 2/10\n",
            "\u001b[1m1688/1688\u001b[0m \u001b[32m━━━━━━━━━━━━━━━━━━━━\u001b[0m\u001b[37m\u001b[0m \u001b[1m43s\u001b[0m 25ms/step - accuracy: 0.8862 - loss: 0.3250 - val_accuracy: 0.8965 - val_loss: 0.2989\n",
            "Epoch 3/10\n",
            "\u001b[1m1688/1688\u001b[0m \u001b[32m━━━━━━━━━━━━━━━━━━━━\u001b[0m\u001b[37m\u001b[0m \u001b[1m43s\u001b[0m 25ms/step - accuracy: 0.9030 - loss: 0.2776 - val_accuracy: 0.8770 - val_loss: 0.3339\n",
            "Epoch 4/10\n",
            "\u001b[1m1688/1688\u001b[0m \u001b[32m━━━━━━━━━━━━━━━━━━━━\u001b[0m\u001b[37m\u001b[0m \u001b[1m43s\u001b[0m 25ms/step - accuracy: 0.9093 - loss: 0.2520 - val_accuracy: 0.8892 - val_loss: 0.3030\n",
            "Epoch 5/10\n",
            "\u001b[1m1688/1688\u001b[0m \u001b[32m━━━━━━━━━━━━━━━━━━━━\u001b[0m\u001b[37m\u001b[0m \u001b[1m81s\u001b[0m 25ms/step - accuracy: 0.9134 - loss: 0.2445 - val_accuracy: 0.9008 - val_loss: 0.2756\n",
            "Epoch 6/10\n",
            "\u001b[1m1688/1688\u001b[0m \u001b[32m━━━━━━━━━━━━━━━━━━━━\u001b[0m\u001b[37m\u001b[0m \u001b[1m81s\u001b[0m 24ms/step - accuracy: 0.9179 - loss: 0.2280 - val_accuracy: 0.9020 - val_loss: 0.2785\n",
            "Epoch 7/10\n",
            "\u001b[1m1688/1688\u001b[0m \u001b[32m━━━━━━━━━━━━━━━━━━━━\u001b[0m\u001b[37m\u001b[0m \u001b[1m82s\u001b[0m 25ms/step - accuracy: 0.9240 - loss: 0.2138 - val_accuracy: 0.9038 - val_loss: 0.2744\n",
            "Epoch 8/10\n",
            "\u001b[1m1688/1688\u001b[0m \u001b[32m━━━━━━━━━━━━━━━━━━━━\u001b[0m\u001b[37m\u001b[0m \u001b[1m82s\u001b[0m 25ms/step - accuracy: 0.9260 - loss: 0.2056 - val_accuracy: 0.9053 - val_loss: 0.2708\n",
            "Epoch 9/10\n",
            "\u001b[1m1688/1688\u001b[0m \u001b[32m━━━━━━━━━━━━━━━━━━━━\u001b[0m\u001b[37m\u001b[0m \u001b[1m81s\u001b[0m 24ms/step - accuracy: 0.9326 - loss: 0.1909 - val_accuracy: 0.9012 - val_loss: 0.2833\n",
            "Epoch 10/10\n",
            "\u001b[1m1688/1688\u001b[0m \u001b[32m━━━━━━━━━━━━━━━━━━━━\u001b[0m\u001b[37m\u001b[0m \u001b[1m42s\u001b[0m 24ms/step - accuracy: 0.9348 - loss: 0.1842 - val_accuracy: 0.9033 - val_loss: 0.2738\n",
            "\u001b[1m313/313\u001b[0m \u001b[32m━━━━━━━━━━━━━━━━━━━━\u001b[0m\u001b[37m\u001b[0m \u001b[1m2s\u001b[0m 7ms/step - accuracy: 0.8980 - loss: 0.2924\n",
            "Точность - 89.56999778747559%\n"
          ]
        }
      ]
    },
    {
      "cell_type": "code",
      "source": [
        "import numpy as np\n",
        "\n",
        "# Функция активации (логистический сигмоид)\n",
        "def sigmoid(x):\n",
        "    return 1 / (1 + np.exp(-x))\n",
        "\n",
        "# Производная сигмоида\n",
        "def sigmoid_derivative(x):\n",
        "    return sigmoid(x) * (1 - sigmoid(x))\n",
        "\n",
        "# Параметры\n",
        "X = np.array([0.4, -0.4]) # Входной вектор\n",
        "\n",
        "# Инициализация весов в диапазоне [-0.3, 0.3]\n",
        "W1 = np.random.uniform(-0.3, 0.3, (2, 3))  # Матрица весов для 1 слоя (2 входа -> 3 нейрона)\n",
        "W2 = np.random.uniform(-0.3, 0.3, (3, 3))  # Матрица весов для 2 слоя (3 нейрона -> 3 выхода)\n",
        "\n",
        "Y = np.array([0.3, 0.5, 0.8]) # Эталонный выход\n",
        "\n",
        "learning_rate = 0.25 # Скорость обучения\n",
        "\n",
        "# Прямое распространение\n",
        "net_h = np.dot(X, W1)   # Считаем net на скрытом слое\n",
        "out_h = sigmoid(net_h)  # Выход скрытого слоя после активации\n",
        "\n",
        "net_o = np.dot(out_h, W2)  # Считаем net на выходном слое\n",
        "out_o = sigmoid(net_o)     # Выход выходного слоя после активации\n",
        "\n",
        "# Вычисление ошибки\n",
        "error = Y - out_o\n",
        "\n",
        "# Обратное распространение ошибки\n",
        "delta_o = error * sigmoid_derivative(net_o)          # Ошибка на выходном слое\n",
        "delta_h = np.dot(delta_o, W2.T) * sigmoid_derivative(net_h) # Ошибка на скрытом слое\n",
        "\n",
        "# Обновление весов\n",
        "W2 = W2 + learning_rate * np.outer(out_h, delta_o)  # Обновляем веса W2\n",
        "W1 = W1 + learning_rate * np.outer(X, delta_h)      # Обновляем веса W1\n",
        "\n",
        "# Вывод результатов\n",
        "print(\"Выход сети:\", out_o)\n",
        "print(\"Ошибка:\", error)\n",
        "print(\"Обновленная матрица весов W1:\\n\", W1)\n",
        "print(\"Обновленная матрица весов W2:\\n\", W2)\n",
        "\n"
      ],
      "metadata": {
        "colab": {
          "base_uri": "https://localhost:8080/"
        },
        "id": "4BuVvvG7Lm_U",
        "outputId": "0353803c-2808-4a14-e08f-0ecb2ca43e5f"
      },
      "execution_count": 24,
      "outputs": [
        {
          "output_type": "stream",
          "name": "stdout",
          "text": [
            "Выход сети: [0.50546733 0.46248164 0.51932954]\n",
            "Ошибка: [-0.20546733  0.03751836  0.28067046]\n",
            "Обновленная матрица весов W1:\n",
            " [[ 0.23060109 -0.14100624  0.00172322]\n",
            " [ 0.12915298  0.28902436  0.0054171 ]]\n",
            "Обновленная матрица весов W2:\n",
            " [[-0.01739202  0.01055501 -0.00091722]\n",
            " [ 0.05333736 -0.19886871  0.01124331]\n",
            " [-0.0057421  -0.12641946  0.17069365]]\n"
          ]
        }
      ]
    }
  ]
}